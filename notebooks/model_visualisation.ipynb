{
 "cells": [
  {
   "cell_type": "code",
   "execution_count": null,
   "id": "8c974d89-f3b4-40c1-a3bb-88f046004f5b",
   "metadata": {},
   "outputs": [],
   "source": []
  },
  {
   "cell_type": "code",
   "execution_count": 1,
   "id": "b72f2e8c-6b00-4597-98e6-acd2ebda6bf7",
   "metadata": {},
   "outputs": [
    {
     "name": "stdout",
     "output_type": "stream",
     "text": [
      "| N-Beats, device=cpu\n",
      "| --  Stack Generic (#0) (share_weights_in_stack=False)\n",
      "     | -- GenericBlock(units=7, thetas_dim=32, backcast_length=4200, forecast_length=26, share_thetas=False) at @4750535296\n",
      "     | -- GenericBlock(units=7, thetas_dim=32, backcast_length=4200, forecast_length=26, share_thetas=False) at @4750538224\n"
     ]
    }
   ],
   "source": [
    "import torch\n",
    "from torch import nn\n",
    "import os\n",
    "import matplotlib.pyplot as plt\n",
    "\n",
    "import sys\n",
    "sys.path.append(os.path.abspath(\"/Users/puszkarb/phd/phd_nbeats_with_feature_vector\"))\n",
    "from networks import *\n",
    "os.chdir(os.path.expanduser(\"~/phd/phd_nbeats_with_feature_vector\"))\n",
    "\n",
    "\n",
    "model_path=\"/Users/puszkarb/phd/phd_nbeats_with_feature_vector/models_repository/NBEATS_NBEATS_('I', 'II', 'III', 'aVR', 'aVL', 'aVF', 'V1', 'V2', 'V3', 'V4', 'V5', 'V6')_1734954128.8572166.th\"\n",
    "\n",
    "network_name=\"NBEATS\"\n",
    "alpha_hidden=7\n",
    "alpha_layers=2\n",
    "window_size=350\n",
    "wavelet_features_size=185\n",
    "alpha_input_size=350\n",
    "beta_input_size=185\n",
    "gamma_input_size=2298\n",
    "delta_input_size=10\n",
    "\n",
    "alpha_config = BranchConfig(network_name, alpha_hidden, alpha_layers, window_size, window_size, wavelet_features_size, beta_input_size=alpha_input_size)\n",
    "beta_config = BranchConfig(network_name, alpha_hidden, alpha_layers, window_size, beta_input_size=beta_input_size)\n",
    "gamma_config = BranchConfig(network_name, alpha_hidden, alpha_layers, window_size, beta_input_size=gamma_input_size, channels=1)\n",
    "delta_config = BranchConfig(network_name, alpha_hidden, alpha_layers, window_size, beta_input_size=delta_input_size)\n",
    "epsilon_config = BranchConfig(network_name, alpha_hidden, alpha_layers, window_size, window_size, wavelet_features_size, beta_input_size=alpha_input_size)\n",
    "zeta_config = BranchConfig(network_name, alpha_hidden, alpha_layers, window_size, window_size, wavelet_features_size, beta_input_size=alpha_input_size)\n",
    "\n",
    "\n",
    "classes=['6374002', '10370003', '17338001', '39732003', '47665007', '59118001', '59931005',\n",
    "                                '111975006', '164889003', '164890007', '164909002', '164917005', '164934002',\n",
    "                                '164947007', '251146004', '270492004', '284470004', '365413008', '426177001', '426627000',\n",
    "                                '426783006', '427084000', '427393009', '445118002', '698252002', '713426002']\n",
    "\n",
    "leads=('I', 'II', 'III', 'aVR', 'aVL', 'aVF', 'V1', 'V2', 'V3', 'V4', 'V5', 'V6')\n",
    "\n",
    "device=torch.device(\"cpu\")\n",
    "\n",
    "blend = get_MultibranchBeats(alpha_config, beta_config, gamma_config, delta_config, epsilon_config, zeta_config, classes, device, leads )\n"
   ]
  },
  {
   "cell_type": "code",
   "execution_count": 8,
   "id": "4096e612-c96c-4217-bbef-7a16eee790c8",
   "metadata": {},
   "outputs": [],
   "source": [
    "dummy_weights = [0.01, 0.1, 0.09, 0.4, 0.12, 0.28]\n",
    "x = range(len(dummy_weights))\n",
    "plt.bar(x, dummy_weights)\n",
    "fig = plt.gcf()\n",
    "plt.close(fig)\n",
    "plt.show()"
   ]
  },
  {
   "cell_type": "code",
   "execution_count": 2,
   "id": "6e8abdf4-ecb0-48b8-b47c-72385eb75a50",
   "metadata": {},
   "outputs": [
    {
     "name": "stderr",
     "output_type": "stream",
     "text": [
      "/var/folders/s0/_xpmvvhn2m73t94g0cm_cbzm0000gn/T/ipykernel_40364/2646062826.py:1: FutureWarning: You are using `torch.load` with `weights_only=False` (the current default value), which uses the default pickle module implicitly. It is possible to construct malicious pickle data which will execute arbitrary code during unpickling (See https://github.com/pytorch/pytorch/blob/main/SECURITY.md#untrusted-models for more details). In a future release, the default value for `weights_only` will be flipped to `True`. This limits the functions that could be executed during unpickling. Arbitrary objects will no longer be allowed to be loaded via this mode unless they are explicitly allowlisted by the user via `torch.serialization.add_safe_globals`. We recommend you start setting `weights_only=True` for any use case where you don't have full control of the loaded file. Please open an issue on GitHub for any issues related to this experimental feature.\n",
      "  blend.load_state_dict(torch.load(model_path, map_location=\"cpu\")[\"model_state_dict\"])\n"
     ]
    },
    {
     "ename": "RuntimeError",
     "evalue": "Error(s) in loading state_dict for MultibranchBeats:\n\tMissing key(s) in state_dict: \"modelE.nbeats_beta.fc_linear.weight\", \"modelE.nbeats_beta.fc_linear.bias\", \"modelE.nbeats_beta.parameters.0\", \"modelE.nbeats_beta.parameters.1\", \"modelE.nbeats_beta.parameters.2\", \"modelE.nbeats_beta.parameters.3\", \"modelE.nbeats_beta.parameters.4\", \"modelE.nbeats_beta.parameters.5\", \"modelE.nbeats_beta.parameters.6\", \"modelE.nbeats_beta.parameters.7\", \"modelE.nbeats_beta.parameters.8\", \"modelE.nbeats_beta.parameters.9\", \"modelE.nbeats_beta.parameters.10\", \"modelE.nbeats_beta.parameters.11\", \"modelE.nbeats_beta.parameters.12\", \"modelE.nbeats_beta.parameters.13\", \"modelE.nbeats_beta.parameters.14\", \"modelE.nbeats_beta.parameters.15\", \"modelE.nbeats_beta.parameters.16\", \"modelE.nbeats_beta.parameters.17\", \"modelE.nbeats_beta.parameters.18\", \"modelE.nbeats_beta.parameters.19\", \"modelE.nbeats_beta.parameters.20\", \"modelE.nbeats_beta.parameters.21\", \"modelE.nbeats_beta.parameters.22\", \"modelE.nbeats_beta.parameters.23\", \"modelE.nbeats_beta.parameters.24\", \"modelE.nbeats_beta.parameters.25\", \"modelE.nbeats_beta.parameters.26\", \"modelE.nbeats_beta.parameters.27\", \"modelE.nbeats_beta.parameters.28\", \"modelE.nbeats_beta.parameters.29\", \"modelE.nbeats_beta.parameters.30\", \"modelE.nbeats_beta.parameters.31\", \"modelE.fc.weight\", \"modelE.fc.bias\". \n\tUnexpected key(s) in state_dict: \"modelA.nbeats_beta.fc_linear.weight\", \"modelA.nbeats_beta.fc_linear.bias\", \"modelA.nbeats_beta.parameters.0\", \"modelA.nbeats_beta.parameters.1\", \"modelA.nbeats_beta.parameters.2\", \"modelA.nbeats_beta.parameters.3\", \"modelA.nbeats_beta.parameters.4\", \"modelA.nbeats_beta.parameters.5\", \"modelA.nbeats_beta.parameters.6\", \"modelA.nbeats_beta.parameters.7\", \"modelA.nbeats_beta.parameters.8\", \"modelA.nbeats_beta.parameters.9\", \"modelA.nbeats_beta.parameters.10\", \"modelA.nbeats_beta.parameters.11\", \"modelA.nbeats_beta.parameters.12\", \"modelA.nbeats_beta.parameters.13\", \"modelA.nbeats_beta.parameters.14\", \"modelA.nbeats_beta.parameters.15\", \"modelA.nbeats_beta.parameters.16\", \"modelA.nbeats_beta.parameters.17\", \"modelA.nbeats_beta.parameters.18\", \"modelA.nbeats_beta.parameters.19\", \"modelA.nbeats_beta.parameters.20\", \"modelA.nbeats_beta.parameters.21\", \"modelA.nbeats_beta.parameters.22\", \"modelA.nbeats_beta.parameters.23\", \"modelA.nbeats_beta.parameters.24\", \"modelA.nbeats_beta.parameters.25\", \"modelA.nbeats_beta.parameters.26\", \"modelA.nbeats_beta.parameters.27\", \"modelA.nbeats_beta.parameters.28\", \"modelA.nbeats_beta.parameters.29\", \"modelA.nbeats_beta.parameters.30\", \"modelA.nbeats_beta.parameters.31\", \"modelA.fc.weight\", \"modelA.fc.bias\", \"modelB.nbeats_beta.fc_linear.weight\", \"modelB.nbeats_beta.fc_linear.bias\", \"modelB.nbeats_beta.parameters.0\", \"modelB.nbeats_beta.parameters.1\", \"modelB.nbeats_beta.parameters.2\", \"modelB.nbeats_beta.parameters.3\", \"modelB.nbeats_beta.parameters.4\", \"modelB.nbeats_beta.parameters.5\", \"modelB.nbeats_beta.parameters.6\", \"modelB.nbeats_beta.parameters.7\", \"modelB.nbeats_beta.parameters.8\", \"modelB.nbeats_beta.parameters.9\", \"modelB.nbeats_beta.parameters.10\", \"modelB.nbeats_beta.parameters.11\", \"modelB.nbeats_beta.parameters.12\", \"modelB.nbeats_beta.parameters.13\", \"modelB.nbeats_beta.parameters.14\", \"modelB.nbeats_beta.parameters.15\", \"modelB.nbeats_beta.parameters.16\", \"modelB.nbeats_beta.parameters.17\", \"modelB.nbeats_beta.parameters.18\", \"modelB.nbeats_beta.parameters.19\", \"modelB.nbeats_beta.parameters.20\", \"modelB.nbeats_beta.parameters.21\", \"modelB.nbeats_beta.parameters.22\", \"modelB.nbeats_beta.parameters.23\", \"modelB.nbeats_beta.parameters.24\", \"modelB.nbeats_beta.parameters.25\", \"modelB.nbeats_beta.parameters.26\", \"modelB.nbeats_beta.parameters.27\", \"modelB.nbeats_beta.parameters.28\", \"modelB.nbeats_beta.parameters.29\", \"modelB.nbeats_beta.parameters.30\", \"modelB.nbeats_beta.parameters.31\", \"modelB.fc.weight\", \"modelB.fc.bias\", \"modelC.nbeats_beta.fc_linear.weight\", \"modelC.nbeats_beta.fc_linear.bias\", \"modelC.nbeats_beta.parameters.0\", \"modelC.nbeats_beta.parameters.1\", \"modelC.nbeats_beta.parameters.2\", \"modelC.nbeats_beta.parameters.3\", \"modelC.nbeats_beta.parameters.4\", \"modelC.nbeats_beta.parameters.5\", \"modelC.nbeats_beta.parameters.6\", \"modelC.nbeats_beta.parameters.7\", \"modelC.nbeats_beta.parameters.8\", \"modelC.nbeats_beta.parameters.9\", \"modelC.nbeats_beta.parameters.10\", \"modelC.nbeats_beta.parameters.11\", \"modelC.nbeats_beta.parameters.12\", \"modelC.nbeats_beta.parameters.13\", \"modelC.nbeats_beta.parameters.14\", \"modelC.nbeats_beta.parameters.15\", \"modelC.nbeats_beta.parameters.16\", \"modelC.nbeats_beta.parameters.17\", \"modelC.nbeats_beta.parameters.18\", \"modelC.nbeats_beta.parameters.19\", \"modelC.nbeats_beta.parameters.20\", \"modelC.nbeats_beta.parameters.21\", \"modelC.nbeats_beta.parameters.22\", \"modelC.nbeats_beta.parameters.23\", \"modelC.nbeats_beta.parameters.24\", \"modelC.nbeats_beta.parameters.25\", \"modelC.nbeats_beta.parameters.26\", \"modelC.nbeats_beta.parameters.27\", \"modelC.nbeats_beta.parameters.28\", \"modelC.nbeats_beta.parameters.29\", \"modelC.nbeats_beta.parameters.30\", \"modelC.nbeats_beta.parameters.31\", \"modelC.fc.weight\", \"modelC.fc.bias\", \"modelD.nbeats_beta.fc_linear.weight\", \"modelD.nbeats_beta.fc_linear.bias\", \"modelD.nbeats_beta.parameters.0\", \"modelD.nbeats_beta.parameters.1\", \"modelD.nbeats_beta.parameters.2\", \"modelD.nbeats_beta.parameters.3\", \"modelD.nbeats_beta.parameters.4\", \"modelD.nbeats_beta.parameters.5\", \"modelD.nbeats_beta.parameters.6\", \"modelD.nbeats_beta.parameters.7\", \"modelD.nbeats_beta.parameters.8\", \"modelD.nbeats_beta.parameters.9\", \"modelD.nbeats_beta.parameters.10\", \"modelD.nbeats_beta.parameters.11\", \"modelD.nbeats_beta.parameters.12\", \"modelD.nbeats_beta.parameters.13\", \"modelD.nbeats_beta.parameters.14\", \"modelD.nbeats_beta.parameters.15\", \"modelD.nbeats_beta.parameters.16\", \"modelD.nbeats_beta.parameters.17\", \"modelD.nbeats_beta.parameters.18\", \"modelD.nbeats_beta.parameters.19\", \"modelD.nbeats_beta.parameters.20\", \"modelD.nbeats_beta.parameters.21\", \"modelD.nbeats_beta.parameters.22\", \"modelD.nbeats_beta.parameters.23\", \"modelD.nbeats_beta.parameters.24\", \"modelD.nbeats_beta.parameters.25\", \"modelD.nbeats_beta.parameters.26\", \"modelD.nbeats_beta.parameters.27\", \"modelD.nbeats_beta.parameters.28\", \"modelD.nbeats_beta.parameters.29\", \"modelD.nbeats_beta.parameters.30\", \"modelD.nbeats_beta.parameters.31\", \"modelD.fc.weight\", \"modelD.fc.bias\". \n\tsize mismatch for linear.weight: copying a param with shape torch.Size([26, 104]) from checkpoint, the shape in current model is torch.Size([26, 26]).",
     "output_type": "error",
     "traceback": [
      "\u001b[0;31m---------------------------------------------------------------------------\u001b[0m",
      "\u001b[0;31mRuntimeError\u001b[0m                              Traceback (most recent call last)",
      "Cell \u001b[0;32mIn[2], line 1\u001b[0m\n\u001b[0;32m----> 1\u001b[0m \u001b[43mblend\u001b[49m\u001b[38;5;241;43m.\u001b[39;49m\u001b[43mload_state_dict\u001b[49m\u001b[43m(\u001b[49m\u001b[43mtorch\u001b[49m\u001b[38;5;241;43m.\u001b[39;49m\u001b[43mload\u001b[49m\u001b[43m(\u001b[49m\u001b[43mmodel_path\u001b[49m\u001b[43m,\u001b[49m\u001b[43m \u001b[49m\u001b[43mmap_location\u001b[49m\u001b[38;5;241;43m=\u001b[39;49m\u001b[38;5;124;43m\"\u001b[39;49m\u001b[38;5;124;43mcpu\u001b[39;49m\u001b[38;5;124;43m\"\u001b[39;49m\u001b[43m)\u001b[49m\u001b[43m[\u001b[49m\u001b[38;5;124;43m\"\u001b[39;49m\u001b[38;5;124;43mmodel_state_dict\u001b[39;49m\u001b[38;5;124;43m\"\u001b[39;49m\u001b[43m]\u001b[49m\u001b[43m)\u001b[49m\n",
      "File \u001b[0;32m~/phd/phd_nbeats/lib/python3.12/site-packages/torch/nn/modules/module.py:2215\u001b[0m, in \u001b[0;36mModule.load_state_dict\u001b[0;34m(self, state_dict, strict, assign)\u001b[0m\n\u001b[1;32m   2210\u001b[0m         error_msgs\u001b[38;5;241m.\u001b[39minsert(\n\u001b[1;32m   2211\u001b[0m             \u001b[38;5;241m0\u001b[39m, \u001b[38;5;124m'\u001b[39m\u001b[38;5;124mMissing key(s) in state_dict: \u001b[39m\u001b[38;5;132;01m{}\u001b[39;00m\u001b[38;5;124m. \u001b[39m\u001b[38;5;124m'\u001b[39m\u001b[38;5;241m.\u001b[39mformat(\n\u001b[1;32m   2212\u001b[0m                 \u001b[38;5;124m'\u001b[39m\u001b[38;5;124m, \u001b[39m\u001b[38;5;124m'\u001b[39m\u001b[38;5;241m.\u001b[39mjoin(\u001b[38;5;124mf\u001b[39m\u001b[38;5;124m'\u001b[39m\u001b[38;5;124m\"\u001b[39m\u001b[38;5;132;01m{\u001b[39;00mk\u001b[38;5;132;01m}\u001b[39;00m\u001b[38;5;124m\"\u001b[39m\u001b[38;5;124m'\u001b[39m \u001b[38;5;28;01mfor\u001b[39;00m k \u001b[38;5;129;01min\u001b[39;00m missing_keys)))\n\u001b[1;32m   2214\u001b[0m \u001b[38;5;28;01mif\u001b[39;00m \u001b[38;5;28mlen\u001b[39m(error_msgs) \u001b[38;5;241m>\u001b[39m \u001b[38;5;241m0\u001b[39m:\n\u001b[0;32m-> 2215\u001b[0m     \u001b[38;5;28;01mraise\u001b[39;00m \u001b[38;5;167;01mRuntimeError\u001b[39;00m(\u001b[38;5;124m'\u001b[39m\u001b[38;5;124mError(s) in loading state_dict for \u001b[39m\u001b[38;5;132;01m{}\u001b[39;00m\u001b[38;5;124m:\u001b[39m\u001b[38;5;130;01m\\n\u001b[39;00m\u001b[38;5;130;01m\\t\u001b[39;00m\u001b[38;5;132;01m{}\u001b[39;00m\u001b[38;5;124m'\u001b[39m\u001b[38;5;241m.\u001b[39mformat(\n\u001b[1;32m   2216\u001b[0m                        \u001b[38;5;28mself\u001b[39m\u001b[38;5;241m.\u001b[39m\u001b[38;5;18m__class__\u001b[39m\u001b[38;5;241m.\u001b[39m\u001b[38;5;18m__name__\u001b[39m, \u001b[38;5;124m\"\u001b[39m\u001b[38;5;130;01m\\n\u001b[39;00m\u001b[38;5;130;01m\\t\u001b[39;00m\u001b[38;5;124m\"\u001b[39m\u001b[38;5;241m.\u001b[39mjoin(error_msgs)))\n\u001b[1;32m   2217\u001b[0m \u001b[38;5;28;01mreturn\u001b[39;00m _IncompatibleKeys(missing_keys, unexpected_keys)\n",
      "\u001b[0;31mRuntimeError\u001b[0m: Error(s) in loading state_dict for MultibranchBeats:\n\tMissing key(s) in state_dict: \"modelE.nbeats_beta.fc_linear.weight\", \"modelE.nbeats_beta.fc_linear.bias\", \"modelE.nbeats_beta.parameters.0\", \"modelE.nbeats_beta.parameters.1\", \"modelE.nbeats_beta.parameters.2\", \"modelE.nbeats_beta.parameters.3\", \"modelE.nbeats_beta.parameters.4\", \"modelE.nbeats_beta.parameters.5\", \"modelE.nbeats_beta.parameters.6\", \"modelE.nbeats_beta.parameters.7\", \"modelE.nbeats_beta.parameters.8\", \"modelE.nbeats_beta.parameters.9\", \"modelE.nbeats_beta.parameters.10\", \"modelE.nbeats_beta.parameters.11\", \"modelE.nbeats_beta.parameters.12\", \"modelE.nbeats_beta.parameters.13\", \"modelE.nbeats_beta.parameters.14\", \"modelE.nbeats_beta.parameters.15\", \"modelE.nbeats_beta.parameters.16\", \"modelE.nbeats_beta.parameters.17\", \"modelE.nbeats_beta.parameters.18\", \"modelE.nbeats_beta.parameters.19\", \"modelE.nbeats_beta.parameters.20\", \"modelE.nbeats_beta.parameters.21\", \"modelE.nbeats_beta.parameters.22\", \"modelE.nbeats_beta.parameters.23\", \"modelE.nbeats_beta.parameters.24\", \"modelE.nbeats_beta.parameters.25\", \"modelE.nbeats_beta.parameters.26\", \"modelE.nbeats_beta.parameters.27\", \"modelE.nbeats_beta.parameters.28\", \"modelE.nbeats_beta.parameters.29\", \"modelE.nbeats_beta.parameters.30\", \"modelE.nbeats_beta.parameters.31\", \"modelE.fc.weight\", \"modelE.fc.bias\". \n\tUnexpected key(s) in state_dict: \"modelA.nbeats_beta.fc_linear.weight\", \"modelA.nbeats_beta.fc_linear.bias\", \"modelA.nbeats_beta.parameters.0\", \"modelA.nbeats_beta.parameters.1\", \"modelA.nbeats_beta.parameters.2\", \"modelA.nbeats_beta.parameters.3\", \"modelA.nbeats_beta.parameters.4\", \"modelA.nbeats_beta.parameters.5\", \"modelA.nbeats_beta.parameters.6\", \"modelA.nbeats_beta.parameters.7\", \"modelA.nbeats_beta.parameters.8\", \"modelA.nbeats_beta.parameters.9\", \"modelA.nbeats_beta.parameters.10\", \"modelA.nbeats_beta.parameters.11\", \"modelA.nbeats_beta.parameters.12\", \"modelA.nbeats_beta.parameters.13\", \"modelA.nbeats_beta.parameters.14\", \"modelA.nbeats_beta.parameters.15\", \"modelA.nbeats_beta.parameters.16\", \"modelA.nbeats_beta.parameters.17\", \"modelA.nbeats_beta.parameters.18\", \"modelA.nbeats_beta.parameters.19\", \"modelA.nbeats_beta.parameters.20\", \"modelA.nbeats_beta.parameters.21\", \"modelA.nbeats_beta.parameters.22\", \"modelA.nbeats_beta.parameters.23\", \"modelA.nbeats_beta.parameters.24\", \"modelA.nbeats_beta.parameters.25\", \"modelA.nbeats_beta.parameters.26\", \"modelA.nbeats_beta.parameters.27\", \"modelA.nbeats_beta.parameters.28\", \"modelA.nbeats_beta.parameters.29\", \"modelA.nbeats_beta.parameters.30\", \"modelA.nbeats_beta.parameters.31\", \"modelA.fc.weight\", \"modelA.fc.bias\", \"modelB.nbeats_beta.fc_linear.weight\", \"modelB.nbeats_beta.fc_linear.bias\", \"modelB.nbeats_beta.parameters.0\", \"modelB.nbeats_beta.parameters.1\", \"modelB.nbeats_beta.parameters.2\", \"modelB.nbeats_beta.parameters.3\", \"modelB.nbeats_beta.parameters.4\", \"modelB.nbeats_beta.parameters.5\", \"modelB.nbeats_beta.parameters.6\", \"modelB.nbeats_beta.parameters.7\", \"modelB.nbeats_beta.parameters.8\", \"modelB.nbeats_beta.parameters.9\", \"modelB.nbeats_beta.parameters.10\", \"modelB.nbeats_beta.parameters.11\", \"modelB.nbeats_beta.parameters.12\", \"modelB.nbeats_beta.parameters.13\", \"modelB.nbeats_beta.parameters.14\", \"modelB.nbeats_beta.parameters.15\", \"modelB.nbeats_beta.parameters.16\", \"modelB.nbeats_beta.parameters.17\", \"modelB.nbeats_beta.parameters.18\", \"modelB.nbeats_beta.parameters.19\", \"modelB.nbeats_beta.parameters.20\", \"modelB.nbeats_beta.parameters.21\", \"modelB.nbeats_beta.parameters.22\", \"modelB.nbeats_beta.parameters.23\", \"modelB.nbeats_beta.parameters.24\", \"modelB.nbeats_beta.parameters.25\", \"modelB.nbeats_beta.parameters.26\", \"modelB.nbeats_beta.parameters.27\", \"modelB.nbeats_beta.parameters.28\", \"modelB.nbeats_beta.parameters.29\", \"modelB.nbeats_beta.parameters.30\", \"modelB.nbeats_beta.parameters.31\", \"modelB.fc.weight\", \"modelB.fc.bias\", \"modelC.nbeats_beta.fc_linear.weight\", \"modelC.nbeats_beta.fc_linear.bias\", \"modelC.nbeats_beta.parameters.0\", \"modelC.nbeats_beta.parameters.1\", \"modelC.nbeats_beta.parameters.2\", \"modelC.nbeats_beta.parameters.3\", \"modelC.nbeats_beta.parameters.4\", \"modelC.nbeats_beta.parameters.5\", \"modelC.nbeats_beta.parameters.6\", \"modelC.nbeats_beta.parameters.7\", \"modelC.nbeats_beta.parameters.8\", \"modelC.nbeats_beta.parameters.9\", \"modelC.nbeats_beta.parameters.10\", \"modelC.nbeats_beta.parameters.11\", \"modelC.nbeats_beta.parameters.12\", \"modelC.nbeats_beta.parameters.13\", \"modelC.nbeats_beta.parameters.14\", \"modelC.nbeats_beta.parameters.15\", \"modelC.nbeats_beta.parameters.16\", \"modelC.nbeats_beta.parameters.17\", \"modelC.nbeats_beta.parameters.18\", \"modelC.nbeats_beta.parameters.19\", \"modelC.nbeats_beta.parameters.20\", \"modelC.nbeats_beta.parameters.21\", \"modelC.nbeats_beta.parameters.22\", \"modelC.nbeats_beta.parameters.23\", \"modelC.nbeats_beta.parameters.24\", \"modelC.nbeats_beta.parameters.25\", \"modelC.nbeats_beta.parameters.26\", \"modelC.nbeats_beta.parameters.27\", \"modelC.nbeats_beta.parameters.28\", \"modelC.nbeats_beta.parameters.29\", \"modelC.nbeats_beta.parameters.30\", \"modelC.nbeats_beta.parameters.31\", \"modelC.fc.weight\", \"modelC.fc.bias\", \"modelD.nbeats_beta.fc_linear.weight\", \"modelD.nbeats_beta.fc_linear.bias\", \"modelD.nbeats_beta.parameters.0\", \"modelD.nbeats_beta.parameters.1\", \"modelD.nbeats_beta.parameters.2\", \"modelD.nbeats_beta.parameters.3\", \"modelD.nbeats_beta.parameters.4\", \"modelD.nbeats_beta.parameters.5\", \"modelD.nbeats_beta.parameters.6\", \"modelD.nbeats_beta.parameters.7\", \"modelD.nbeats_beta.parameters.8\", \"modelD.nbeats_beta.parameters.9\", \"modelD.nbeats_beta.parameters.10\", \"modelD.nbeats_beta.parameters.11\", \"modelD.nbeats_beta.parameters.12\", \"modelD.nbeats_beta.parameters.13\", \"modelD.nbeats_beta.parameters.14\", \"modelD.nbeats_beta.parameters.15\", \"modelD.nbeats_beta.parameters.16\", \"modelD.nbeats_beta.parameters.17\", \"modelD.nbeats_beta.parameters.18\", \"modelD.nbeats_beta.parameters.19\", \"modelD.nbeats_beta.parameters.20\", \"modelD.nbeats_beta.parameters.21\", \"modelD.nbeats_beta.parameters.22\", \"modelD.nbeats_beta.parameters.23\", \"modelD.nbeats_beta.parameters.24\", \"modelD.nbeats_beta.parameters.25\", \"modelD.nbeats_beta.parameters.26\", \"modelD.nbeats_beta.parameters.27\", \"modelD.nbeats_beta.parameters.28\", \"modelD.nbeats_beta.parameters.29\", \"modelD.nbeats_beta.parameters.30\", \"modelD.nbeats_beta.parameters.31\", \"modelD.fc.weight\", \"modelD.fc.bias\". \n\tsize mismatch for linear.weight: copying a param with shape torch.Size([26, 104]) from checkpoint, the shape in current model is torch.Size([26, 26])."
     ]
    }
   ],
   "source": [
    "blend.load_state_dict(torch.load(model_path, map_location=\"cpu\")[\"model_state_dict\"])"
   ]
  },
  {
   "cell_type": "code",
   "execution_count": null,
   "id": "16fc054b-20c5-44af-aa6a-af50d14017a2",
   "metadata": {},
   "outputs": [],
   "source": [
    "blend.parameters"
   ]
  },
  {
   "cell_type": "code",
   "execution_count": null,
   "id": "6d5137ba-16a6-4ff3-bd0b-9c1098599146",
   "metadata": {},
   "outputs": [],
   "source": [
    "for name, param in blend.named_parameters():\n",
    "    print(name)\n",
    "    print(param)"
   ]
  },
  {
   "cell_type": "code",
   "execution_count": null,
   "id": "12a966da-64a1-485d-9798-c647697d5090",
   "metadata": {},
   "outputs": [],
   "source": [
    "weights = blend.linear.weight.data.numpy()\n",
    "\n",
    "heatmap = plt.imshow(weights, cmap='hot')\n",
    "fig = plt.gcf() \n",
    "fig.set_size_inches(12, 12, forward=True)\n",
    "plt.colorbar(heatmap)\n",
    "plt.show()"
   ]
  },
  {
   "cell_type": "code",
   "execution_count": null,
   "id": "d7115c7c-31a3-4cbd-8588-ff803d99ce03",
   "metadata": {},
   "outputs": [],
   "source": [
    "weights_alpha = weights[:, :26]\n",
    "weights_beta = weights[:,26 :52]\n",
    "weights_gamma = weights[:,52 :78]\n",
    "weights_delta = weights[:,78 :]\n",
    "\n",
    "names=[\"alpha\", \"beta\", \"gamma\", \"delta\"]\n",
    "\n",
    "figure, axis = plt.subplots(4, 1)\n",
    "figure.set_size_inches(24,10)\n",
    "\n",
    "for i in range(4):\n",
    "    heatmap = axis[i].pcolor(weights[:, i*26:i*26 + 26], cmap=plt.cm.Blues)\n",
    "    plt.colorbar(heatmap)\n",
    "    axis[i].set_title(names[i])\n",
    "\n",
    "\n",
    "\n",
    "for i in range(4):\n",
    "    summed = sum(sum(weights[:, i*26:i*26 + 26]))\n",
    "    print(summed)\n",
    "    #axis[4+i].bar(range(26), summed)\n",
    "\n",
    "    \n",
    "\n"
   ]
  },
  {
   "cell_type": "code",
   "execution_count": null,
   "id": "bbd7ff15-2c2d-41bd-a018-4231986e0f25",
   "metadata": {},
   "outputs": [],
   "source": []
  },
  {
   "cell_type": "code",
   "execution_count": null,
   "id": "705c9dd0-54f8-473a-a2e6-b8257643033d",
   "metadata": {},
   "outputs": [],
   "source": []
  }
 ],
 "metadata": {
  "kernelspec": {
   "display_name": "Python 3 (ipykernel)",
   "language": "python",
   "name": "python3"
  },
  "language_info": {
   "codemirror_mode": {
    "name": "ipython",
    "version": 3
   },
   "file_extension": ".py",
   "mimetype": "text/x-python",
   "name": "python",
   "nbconvert_exporter": "python",
   "pygments_lexer": "ipython3",
   "version": "3.12.3"
  }
 },
 "nbformat": 4,
 "nbformat_minor": 5
}
